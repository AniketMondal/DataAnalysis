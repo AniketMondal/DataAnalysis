{
 "cells": [
  {
   "cell_type": "markdown",
   "id": "respective-pointer",
   "metadata": {},
   "source": [
    "# Importing Libraries:-\n",
    "### 1. Pandas\n",
    "### 2. NumPy\n",
    "### 3. Regex"
   ]
  },
  {
   "cell_type": "code",
   "execution_count": null,
   "id": "herbal-shipping",
   "metadata": {},
   "outputs": [],
   "source": [
    "import pandas as pd\n",
    "import numpy as np"
   ]
  },
  {
   "cell_type": "code",
   "execution_count": null,
   "id": "blond-sender",
   "metadata": {},
   "outputs": [],
   "source": [
    "import re"
   ]
  },
  {
   "cell_type": "markdown",
   "id": "pharmaceutical-liberia",
   "metadata": {},
   "source": [
    "#### \n",
    "## Importing Data File:-\n",
    "### 1. Initial inspection of data.\n",
    "### 2. Understanding data.\n",
    "#### "
   ]
  },
  {
   "cell_type": "code",
   "execution_count": null,
   "id": "statewide-sodium",
   "metadata": {},
   "outputs": [],
   "source": [
    "df = pd.read_csv(\"allocations.csv\")\n",
    "df.head()"
   ]
  },
  {
   "cell_type": "code",
   "execution_count": null,
   "id": "conventional-stanford",
   "metadata": {},
   "outputs": [],
   "source": [
    "df.shape"
   ]
  },
  {
   "cell_type": "code",
   "execution_count": null,
   "id": "rural-expert",
   "metadata": {},
   "outputs": [],
   "source": [
    "df[\"Slot\"].describe()"
   ]
  },
  {
   "cell_type": "code",
   "execution_count": null,
   "id": "sought-question",
   "metadata": {},
   "outputs": [],
   "source": [
    "df[\"Slot\"].value_counts()"
   ]
  },
  {
   "cell_type": "code",
   "execution_count": null,
   "id": "norwegian-aggregate",
   "metadata": {},
   "outputs": [],
   "source": [
    "df[\"Slot\"].dtypes"
   ]
  },
  {
   "cell_type": "markdown",
   "id": "awful-award",
   "metadata": {},
   "source": [
    "### \n",
    "## Transformation of data:-\n",
    "### "
   ]
  },
  {
   "cell_type": "code",
   "execution_count": null,
   "id": "organizational-bobby",
   "metadata": {},
   "outputs": [],
   "source": [
    "def convert(x):\n",
    "    x = x.replace(\" (IDC)\",\"00\")\n",
    "    if x == \".\":\n",
    "        x = \"16.3\"\n",
    "    return x"
   ]
  },
  {
   "cell_type": "code",
   "execution_count": null,
   "id": "compliant-penguin",
   "metadata": {},
   "outputs": [],
   "source": [
    "convert(\"3 (IDC).1\")"
   ]
  },
  {
   "cell_type": "code",
   "execution_count": null,
   "id": "ordinary-development",
   "metadata": {},
   "outputs": [],
   "source": [
    "df[\"Slot\"] = df[\"Slot\"].apply(convert)"
   ]
  },
  {
   "cell_type": "markdown",
   "id": "crude-picture",
   "metadata": {},
   "source": [
    "#### \n",
    "### Day 16 means 2nd phase placements, Slot 1 is from morning to evening, slot 2 is from evening to late night, slot 3 is full day in phase 2. For IDC, days are multiplied by 100 to differentiate from general placements; like \"Day 2' for IDC is represented as \"Day 200\" and so on.\n",
    "#### "
   ]
  },
  {
   "cell_type": "code",
   "execution_count": null,
   "id": "floppy-chemistry",
   "metadata": {},
   "outputs": [],
   "source": [
    "df[[\"Day\",\"Slot No.\"]] = df[\"Slot\"].str.split(\".\",expand = True)\n",
    "df.head(10)"
   ]
  },
  {
   "cell_type": "code",
   "execution_count": null,
   "id": "satisfactory-discussion",
   "metadata": {},
   "outputs": [],
   "source": [
    "df.tail()"
   ]
  },
  {
   "cell_type": "code",
   "execution_count": null,
   "id": "boxed-pickup",
   "metadata": {},
   "outputs": [],
   "source": [
    "df.drop(columns = \"Slot\", inplace=True)"
   ]
  },
  {
   "cell_type": "code",
   "execution_count": null,
   "id": "bizarre-patrick",
   "metadata": {},
   "outputs": [],
   "source": [
    "df[\"Day\"] = pd.to_numeric(df[\"Day\"])"
   ]
  },
  {
   "cell_type": "code",
   "execution_count": null,
   "id": "eleven-satisfaction",
   "metadata": {},
   "outputs": [],
   "source": [
    "df[\"Slot No.\"] = pd.to_numeric(df[\"Slot No.\"])"
   ]
  },
  {
   "cell_type": "code",
   "execution_count": null,
   "id": "aging-radar",
   "metadata": {},
   "outputs": [],
   "source": [
    "df.head()"
   ]
  },
  {
   "cell_type": "code",
   "execution_count": null,
   "id": "short-buffalo",
   "metadata": {},
   "outputs": [],
   "source": [
    "df.drop(columns = \"Job code\", inplace=True)"
   ]
  },
  {
   "cell_type": "code",
   "execution_count": null,
   "id": "crude-airfare",
   "metadata": {},
   "outputs": [],
   "source": [
    "df.head()"
   ]
  },
  {
   "cell_type": "markdown",
   "id": "literary-standard",
   "metadata": {},
   "source": [
    "### \n",
    "## Final inspection of data after the tranformation:-\n",
    "### "
   ]
  },
  {
   "cell_type": "code",
   "execution_count": null,
   "id": "federal-pilot",
   "metadata": {},
   "outputs": [],
   "source": [
    "df_BTech = df[df.Program == \"B.Tech.\"]\n",
    "df_BTech.head()"
   ]
  },
  {
   "cell_type": "code",
   "execution_count": null,
   "id": "challenging-valley",
   "metadata": {},
   "outputs": [],
   "source": [
    "df_MTech = df[df.Program == \"M.Tech.\"]\n",
    "df_MTech.head()"
   ]
  },
  {
   "cell_type": "code",
   "execution_count": null,
   "id": "lined-leave",
   "metadata": {},
   "outputs": [],
   "source": [
    "df_Dual = df[df.Program.str.contains(\"Dual Degree\")]\n",
    "df_Dual.head()"
   ]
  },
  {
   "cell_type": "code",
   "execution_count": null,
   "id": "noticed-stability",
   "metadata": {},
   "outputs": [],
   "source": [
    "df.info()"
   ]
  },
  {
   "cell_type": "markdown",
   "id": "expressed-bennett",
   "metadata": {},
   "source": [
    "#### \n",
    "##  Applying aggregation functions to group the data with similar features:-\n",
    "### 1. Drawing insights from the data.\n",
    "### 2. Storing insights in form of DataFrames.\n",
    "#### "
   ]
  },
  {
   "cell_type": "markdown",
   "id": "sixth-toyota",
   "metadata": {},
   "source": [
    "## Slot wise analysis:-"
   ]
  },
  {
   "cell_type": "code",
   "execution_count": null,
   "id": "greenhouse-elimination",
   "metadata": {},
   "outputs": [],
   "source": [
    "slot_data = df.groupby(\"Slot No.\",as_index=0)[\"Roll\"].count()\n",
    "slot_data = slot_data.reset_index(drop = 1)\n",
    "slot_data.rename({\"Roll\":\"No. of Students\"},axis=1,inplace=True)\n",
    "slot_data                                                                                         # EXPORT AS SHEET"
   ]
  },
  {
   "cell_type": "markdown",
   "id": "prescription-strain",
   "metadata": {},
   "source": [
    "## Department and Program wise analysis:-"
   ]
  },
  {
   "cell_type": "code",
   "execution_count": null,
   "id": "abandoned-granny",
   "metadata": {},
   "outputs": [],
   "source": [
    "Department_Stats_Breakdown = df.groupby([\"Department\",\"Program\"], as_index = False)[\"Roll\"].count().sort_values([\"Roll\",\"Program\",\"Department\"], ascending = [False,True,True])\n",
    "Department_Stats_Breakdown.reset_index(drop = 1, inplace = True)\n",
    "Department_Stats_Breakdown.head(15)"
   ]
  },
  {
   "cell_type": "markdown",
   "id": "requested-examination",
   "metadata": {},
   "source": [
    "## Program wise analysis:-\n",
    "### 1. Number count.\n",
    "### 2. Percentage count."
   ]
  },
  {
   "cell_type": "code",
   "execution_count": null,
   "id": "collectible-pitch",
   "metadata": {},
   "outputs": [],
   "source": [
    "Program_Stats = df.groupby(\"Program\",as_index = 0)[\"Roll\"].count().sort_values(\"Roll\",ascending = False)\n",
    "Program_Stats.reset_index(drop = True, inplace= True)\n",
    "Program_Stats.rename({\"Roll\":\"No. of Students\"},axis=1,inplace=True)\n",
    "Program_Stats                                                                                    # EXPORT AS SHEET"
   ]
  },
  {
   "cell_type": "code",
   "execution_count": null,
   "id": "changed-haven",
   "metadata": {},
   "outputs": [],
   "source": [
    "Program_Stats_Percentage = pd.DataFrame(round(df.value_counts(\"Program\", normalize = True)*100,2))"
   ]
  },
  {
   "cell_type": "code",
   "execution_count": null,
   "id": "cellular-retirement",
   "metadata": {},
   "outputs": [],
   "source": [
    "Program_Stats_Percentage.reset_index(inplace = True)\n",
    "Program_Stats_Percentage.rename({0:\"% of Students\"},axis=1,inplace=True)\n",
    "Program_Stats_Percentage                                                                       # EXPORT AS SHEET"
   ]
  },
  {
   "cell_type": "markdown",
   "id": "interpreted-involvement",
   "metadata": {},
   "source": [
    "## Company, Day and Slot wise mixed analysis:-"
   ]
  },
  {
   "cell_type": "code",
   "execution_count": null,
   "id": "overall-bloom",
   "metadata": {},
   "outputs": [],
   "source": [
    "company_stats = df.groupby([\"Company\",\"Day\",\"Slot No.\"],as_index=False)[\"Roll\"].count().sort_values([\"Roll\",\"Company\"], ascending = [0,1])\n",
    "company_stats.reset_index(drop = True, inplace=True)\n",
    "company_stats.shape"
   ]
  },
  {
   "cell_type": "code",
   "execution_count": null,
   "id": "limiting-vault",
   "metadata": {},
   "outputs": [],
   "source": [
    "company_stats[company_stats[\"Company\"].str.contains(\"Hp\",flags=re.I, regex=True)]"
   ]
  },
  {
   "cell_type": "code",
   "execution_count": null,
   "id": "recorded-fifty",
   "metadata": {},
   "outputs": [],
   "source": [
    "company_stats.rename({\"Roll\":\"No. of Students\"},axis=1,inplace=True)\n",
    "company_stats.head(10)                                                                                 # EXPORT AS SHEET"
   ]
  },
  {
   "cell_type": "code",
   "execution_count": null,
   "id": "worst-gibraltar",
   "metadata": {},
   "outputs": [],
   "source": [
    "company_stats.info()"
   ]
  },
  {
   "cell_type": "code",
   "execution_count": null,
   "id": "guided-membership",
   "metadata": {},
   "outputs": [],
   "source": [
    "company_stats[\"Company\"].nunique()"
   ]
  },
  {
   "cell_type": "code",
   "execution_count": null,
   "id": "hungarian-calgary",
   "metadata": {},
   "outputs": [],
   "source": [
    "company_stats[\"Company\"].count()"
   ]
  },
  {
   "cell_type": "markdown",
   "id": "direct-suicide",
   "metadata": {},
   "source": [
    "## Finding all the companies who recruited more than once:-"
   ]
  },
  {
   "cell_type": "code",
   "execution_count": null,
   "id": "awful-strategy",
   "metadata": {
    "scrolled": false
   },
   "outputs": [],
   "source": [
    "repeated_companies = company_stats[company_stats.duplicated(subset=\"Company\", keep=False)]\n",
    "repeated_companies = repeated_companies.sort_values(\"Company\")\n",
    "repeated_companies.reset_index(drop=True,inplace=True)\n",
    "repeated_companies.rename({\"Roll\":\"No. of Students\"},axis=1,inplace=True)\n",
    "repeated_companies.head()                                                                            # EXPORT AS SHEET"
   ]
  },
  {
   "cell_type": "code",
   "execution_count": null,
   "id": "retired-strike",
   "metadata": {},
   "outputs": [],
   "source": [
    "repeated_companies_total = repeated_companies.groupby([\"Company\"],as_index=False)[\"Roll\"].sum()\n",
    "repeated_companies_total = repeated_companies_stacked.sort_values([\"Roll\",\"Company\"],ascending=[0,1])\n",
    "repeated_companies_total.reset_index(drop=True,inplace=True)\n",
    "repeated_companies_total.rename({\"Roll\":\"No. of Students\"},axis=1,inplace=True)\n",
    "repeated_companies_total                                                                            # EXPORT AS SHEET"
   ]
  },
  {
   "cell_type": "markdown",
   "id": "inside-selling",
   "metadata": {},
   "source": [
    "## Top recruiter Companies for the entire season:-"
   ]
  },
  {
   "cell_type": "code",
   "execution_count": null,
   "id": "prepared-warrior",
   "metadata": {},
   "outputs": [],
   "source": [
    "top_companies = company_stats.groupby(\"Company\",as_index=False)[\"Roll\"].sum()\n",
    "top_companies = top_companies.sort_values([\"Roll\",\"Company\"],ascending=[0,1])\n",
    "top_companies.reset_index(drop=True,inplace=True)\n",
    "top_companies.rename({\"Roll\":\"No. of Students\"},axis=1,inplace=True)\n",
    "top_companies.head(20)                                                                          # EXPORT AS SHEET"
   ]
  },
  {
   "cell_type": "markdown",
   "id": "economic-waste",
   "metadata": {},
   "source": [
    "## Top branches:-"
   ]
  },
  {
   "cell_type": "code",
   "execution_count": null,
   "id": "sharp-marking",
   "metadata": {},
   "outputs": [],
   "source": [
    "def dept_splitter(x):\n",
    "    splitted = x.split(\", \")\n",
    "    if len(splitted)==1:\n",
    "        return x\n",
    "    elif splitted[0]==splitted[1]:\n",
    "        return splitted[0]\n",
    "    else:\n",
    "        return x"
   ]
  },
  {
   "cell_type": "code",
   "execution_count": null,
   "id": "narrative-witness",
   "metadata": {},
   "outputs": [],
   "source": [
    "top_branches = Department_Stats_Breakdown.copy()\n",
    "top_branches[\"Department\"] = top_branches[\"Department\"].apply(dept_splitter)\n",
    "top_branches = top_branches.rename({\"Roll\":\"No. of Students\"},axis=1)\n",
    "top_branches.head(20)                                                                           # EXPORT AS SHEET"
   ]
  },
  {
   "cell_type": "markdown",
   "id": "latin-woman",
   "metadata": {},
   "source": [
    "## Irrespective of Programs:-"
   ]
  },
  {
   "cell_type": "code",
   "execution_count": null,
   "id": "dependent-february",
   "metadata": {},
   "outputs": [],
   "source": [
    "top_branches_all = top_branches.groupby(\"Department\",as_index=False)[\"Roll\"].sum()\n",
    "top_branches_all = top_branches_all.sort_values([\"Roll\",\"Department\"],ascending=[0,1])\n",
    "top_branches_all.reset_index(drop = True, inplace = True)\n",
    "top_branches_all.rename({\"Roll\":\"No. of Students\"},axis=1,inplace = True)                          # EXPORT AS SHEET\n",
    "top_branches_all.head(10)"
   ]
  },
  {
   "cell_type": "markdown",
   "id": "molecular-mexican",
   "metadata": {},
   "source": [
    "## Program wise:-"
   ]
  },
  {
   "cell_type": "code",
   "execution_count": null,
   "id": "valid-dominican",
   "metadata": {},
   "outputs": [],
   "source": [
    "top_branches_BTech = top_branches.loc[top_branches.Program == \"B.Tech.\",[\"Department\",\"Roll\"]]\n",
    "top_branches_BTech.reset_index(drop = True, inplace=True)\n",
    "top_branches_BTech.rename({\"Roll\":\"No. of Students\"},axis=1,inplace = True)\n",
    "top_branches_BTech                                                                                # EXPORT AS SHEET"
   ]
  },
  {
   "cell_type": "code",
   "execution_count": null,
   "id": "removed-beast",
   "metadata": {},
   "outputs": [],
   "source": [
    "top_branches_MTech = top_branches.loc[top_branches.Program == \"M.Tech.\",[\"Department\",\"Roll\"]]\n",
    "top_branches_MTech.reset_index(drop = True, inplace=True)\n",
    "top_branches_MTech.rename({\"Roll\":\"No. of Students\"},axis=1,inplace = True)\n",
    "top_branches_MTech                                                                                # EXPORT AS SHEET"
   ]
  },
  {
   "cell_type": "code",
   "execution_count": null,
   "id": "occupied-membership",
   "metadata": {},
   "outputs": [],
   "source": [
    "top_branches_other = top_branches.loc[~top_branches.Program.isin([\"M.Tech.\",\"B.Tech.\"])]\n",
    "top_branches_other = top_branches_other.rename({\"Roll\":\"No. of Students\"},axis=1)\n",
    "top_branches_other.reset_index(drop=True,inplace=True)\n",
    "top_branches_other.head()                                                                     # EXPORT AS SHEET"
   ]
  },
  {
   "cell_type": "markdown",
   "id": "growing-africa",
   "metadata": {},
   "source": [
    "#### \n",
    "# Exporting DataFrames into multiple Excel sheets of a single file:-\n",
    "#### "
   ]
  },
  {
   "cell_type": "code",
   "execution_count": null,
   "id": "north-mayor",
   "metadata": {},
   "outputs": [],
   "source": [
    "'''\n",
    "with pd.ExcelWriter(\"Allocation_Analysis.xlsx\") as w:\n",
    "    df_BTech.to_excel(w,sheet_name=\"B.Tech Details\",index=False,freeze_panes=(1,0))\n",
    "    df_MTech.to_excel(w,sheet_name=\"M.Tech Details\",index=False,freeze_panes=(1,0))\n",
    "    df_Dual.to_excel(w,sheet_name=\"Dual Degree Details\",index=False,freeze_panes=(1,0))\n",
    "    slot_data.to_excel(w,sheet_name=\"Slot Analysis\",index=False,freeze_panes=(1,0))\n",
    "    Program_Stats.to_excel(w,sheet_name=\"Program_Stats\",index=False,freeze_panes=(1,0))\n",
    "    Program_Stats_Percentage.to_excel(w,sheet_name=\"Program_Stats_Percentage\",index=False,freeze_panes=(1,0))\n",
    "    company_stats.to_excel(w,sheet_name=\"Company_Stats\",index=False,freeze_panes=(1,0))\n",
    "    repeated_companies.to_excel(w,sheet_name=\"Repeating Companies\",index=False,freeze_panes=(1,0))\n",
    "    repeated_companies_total.to_excel(w,sheet_name=\"Best repeating Companies\",index=False,freeze_panes=(1,0))\n",
    "    top_companies.to_excel(w,sheet_name=\"Top Recruiters\",index=False,freeze_panes=(1,0))\n",
    "    top_branches.to_excel(w,sheet_name=\"Best Program & Department\",index=False,freeze_panes=(1,0))\n",
    "    top_branches_all.to_excel(w,sheet_name=\"Overall Best Department\",index=False,freeze_panes=(1,0))\n",
    "    top_branches_BTech.to_excel(w,sheet_name=\"Best B.Tech Department\",index=False,freeze_panes=(1,0))\n",
    "    top_branches_MTech.to_excel(w,sheet_name=\"Best M.Tech Department\",index=False,freeze_panes=(1,0))\n",
    "    top_branches_other.to_excel(w,sheet_name=\"Best_Dept_other_Programs\",index=False,freeze_panes=(1,0))\n",
    "'''"
   ]
  },
  {
   "cell_type": "code",
   "execution_count": null,
   "id": "finite-diploma",
   "metadata": {},
   "outputs": [],
   "source": []
  }
 ],
 "metadata": {
  "kernelspec": {
   "display_name": "Python 3",
   "language": "python",
   "name": "python3"
  },
  "language_info": {
   "codemirror_mode": {
    "name": "ipython",
    "version": 3
   },
   "file_extension": ".py",
   "mimetype": "text/x-python",
   "name": "python",
   "nbconvert_exporter": "python",
   "pygments_lexer": "ipython3",
   "version": "3.9.2"
  }
 },
 "nbformat": 4,
 "nbformat_minor": 5
}
